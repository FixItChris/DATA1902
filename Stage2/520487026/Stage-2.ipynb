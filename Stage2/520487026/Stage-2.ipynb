{
 "cells": [
  {
   "cell_type": "code",
   "execution_count": 2,
   "metadata": {},
   "outputs": [],
   "source": [
    "#importing relevant packages\n",
    "import pandas as pd\n",
    "import numpy as np\n",
    "import matplotlib.pyplot as plt\n",
    "import plotly.express as px \n",
    "import plotly.graph_objects as go\n",
    "import nbformat as nb\n",
    "\n",
    "#reading in datasets\n",
    "cleandata = pd.read_csv(r'Data/Cleaned Expenditure Data.csv')\n",
    "ogdata = pd.read_csv(r'Data/integrated_dataset.csv')\n"
   ]
  },
  {
   "cell_type": "code",
   "execution_count": 3,
   "metadata": {},
   "outputs": [
    {
     "data": {
      "text/html": [
       "<div>\n",
       "<style scoped>\n",
       "    .dataframe tbody tr th:only-of-type {\n",
       "        vertical-align: middle;\n",
       "    }\n",
       "\n",
       "    .dataframe tbody tr th {\n",
       "        vertical-align: top;\n",
       "    }\n",
       "\n",
       "    .dataframe thead th {\n",
       "        text-align: right;\n",
       "    }\n",
       "</style>\n",
       "<table border=\"1\" class=\"dataframe\">\n",
       "  <thead>\n",
       "    <tr style=\"text-align: right;\">\n",
       "      <th></th>\n",
       "      <th>Expenditure (constant US$ millions)</th>\n",
       "    </tr>\n",
       "    <tr>\n",
       "      <th>Country</th>\n",
       "      <th></th>\n",
       "    </tr>\n",
       "  </thead>\n",
       "  <tbody>\n",
       "    <tr>\n",
       "      <th>United States</th>\n",
       "      <td>256883.353062</td>\n",
       "    </tr>\n",
       "    <tr>\n",
       "      <th>Germany</th>\n",
       "      <td>47055.079968</td>\n",
       "    </tr>\n",
       "    <tr>\n",
       "      <th>United Kingdom</th>\n",
       "      <td>38016.637028</td>\n",
       "    </tr>\n",
       "    <tr>\n",
       "      <th>India</th>\n",
       "      <td>33847.630408</td>\n",
       "    </tr>\n",
       "    <tr>\n",
       "      <th>France</th>\n",
       "      <td>32579.208210</td>\n",
       "    </tr>\n",
       "    <tr>\n",
       "      <th>Japan</th>\n",
       "      <td>30910.225943</td>\n",
       "    </tr>\n",
       "    <tr>\n",
       "      <th>Canada</th>\n",
       "      <td>26645.638165</td>\n",
       "    </tr>\n",
       "    <tr>\n",
       "      <th>Brazil</th>\n",
       "      <td>25715.635888</td>\n",
       "    </tr>\n",
       "    <tr>\n",
       "      <th>Australia</th>\n",
       "      <td>17708.363988</td>\n",
       "    </tr>\n",
       "    <tr>\n",
       "      <th>Italy</th>\n",
       "      <td>14802.873240</td>\n",
       "    </tr>\n",
       "  </tbody>\n",
       "</table>\n",
       "</div>"
      ],
      "text/plain": [
       "                Expenditure (constant US$ millions)\n",
       "Country                                            \n",
       "United States                         256883.353062\n",
       "Germany                                47055.079968\n",
       "United Kingdom                         38016.637028\n",
       "India                                  33847.630408\n",
       "France                                 32579.208210\n",
       "Japan                                  30910.225943\n",
       "Canada                                 26645.638165\n",
       "Brazil                                 25715.635888\n",
       "Australia                              17708.363988\n",
       "Italy                                  14802.873240"
      ]
     },
     "execution_count": 3,
     "metadata": {},
     "output_type": "execute_result"
    }
   ],
   "source": [
    "#Inquiry Question 1: What is the relationship between QS and employability rankings, \n",
    "#and how does expenditure play a role in such?\n",
    "#rectifying inconsistent values\n",
    "cleandata.replace({'United Kingdom of Great Britain and Northern Ireland': \"United Kingdom\", \n",
    "'United States of America': 'United States'}, inplace=True)\n",
    "\n",
    "#grouping the data by country, taking the top 10 countries for average expenditure\n",
    "cleangroup = cleandata.groupby(\"Country\")['Expenditure (constant US$ millions)'].mean().nlargest(10)\n",
    "\n",
    "cleangroupdf = pd.DataFrame(cleangroup) #creating the first dataframe to be joined\n",
    "cleangroupdf"
   ]
  },
  {
   "cell_type": "code",
   "execution_count": 4,
   "metadata": {},
   "outputs": [
    {
     "data": {
      "text/html": [
       "<div>\n",
       "<style scoped>\n",
       "    .dataframe tbody tr th:only-of-type {\n",
       "        vertical-align: middle;\n",
       "    }\n",
       "\n",
       "    .dataframe tbody tr th {\n",
       "        vertical-align: top;\n",
       "    }\n",
       "\n",
       "    .dataframe thead th {\n",
       "        text-align: right;\n",
       "    }\n",
       "</style>\n",
       "<table border=\"1\" class=\"dataframe\">\n",
       "  <thead>\n",
       "    <tr style=\"text-align: right;\">\n",
       "      <th></th>\n",
       "      <th></th>\n",
       "      <th></th>\n",
       "    </tr>\n",
       "    <tr>\n",
       "      <th>Country</th>\n",
       "      <th>score scaled_QS2023</th>\n",
       "      <th>Global University Employability Rank 2020</th>\n",
       "    </tr>\n",
       "  </thead>\n",
       "  <tbody>\n",
       "    <tr>\n",
       "      <th>United States</th>\n",
       "      <th>51.871605</th>\n",
       "      <th>1.0</th>\n",
       "    </tr>\n",
       "    <tr>\n",
       "      <th>Germany</th>\n",
       "      <th>42.188462</th>\n",
       "      <th>12.0</th>\n",
       "    </tr>\n",
       "    <tr>\n",
       "      <th>United Kingdom</th>\n",
       "      <th>52.041304</th>\n",
       "      <th>4.0</th>\n",
       "    </tr>\n",
       "    <tr>\n",
       "      <th>India</th>\n",
       "      <th>39.412500</th>\n",
       "      <th>27.0</th>\n",
       "    </tr>\n",
       "    <tr>\n",
       "      <th>France</th>\n",
       "      <th>48.046154</th>\n",
       "      <th>22.0</th>\n",
       "    </tr>\n",
       "    <tr>\n",
       "      <th>Japan</th>\n",
       "      <th>51.366667</th>\n",
       "      <th>6.0</th>\n",
       "    </tr>\n",
       "    <tr>\n",
       "      <th>Canada</th>\n",
       "      <th>46.652941</th>\n",
       "      <th>8.0</th>\n",
       "    </tr>\n",
       "    <tr>\n",
       "      <th>Brazil</th>\n",
       "      <th>36.400000</th>\n",
       "      <th>109.0</th>\n",
       "    </tr>\n",
       "    <tr>\n",
       "      <th>Australia</th>\n",
       "      <th>49.562500</th>\n",
       "      <th>15.0</th>\n",
       "    </tr>\n",
       "    <tr>\n",
       "      <th>Italy</th>\n",
       "      <th>33.438462</th>\n",
       "      <th>57.0</th>\n",
       "    </tr>\n",
       "  </tbody>\n",
       "</table>\n",
       "</div>"
      ],
      "text/plain": [
       "Empty DataFrame\n",
       "Columns: []\n",
       "Index: [(United States, 51.87160494, 1.0), (Germany, 42.18846154, 12.0), (United Kingdom, 52.04130435, 4.0), (India, 39.4125, 27.0), (France, 48.04615385, 22.0), (Japan, 51.36666667, 6.0), (Canada, 46.65294118, 8.0), (Brazil, 36.4, 109.0), (Australia, 49.5625, 15.0), (Italy, 33.43846154, 57.0)]"
      ]
     },
     "execution_count": 4,
     "metadata": {},
     "output_type": "execute_result"
    }
   ],
   "source": [
    "#determining the top 10 countries for expenditure in the second dataset\n",
    "ogdata.nlargest(10, 'Expenditure (constant US$ millions)') \n",
    "\n",
    "#grouping the data by country and QS score, and then taking the top 10 countries for expenditure\n",
    "ogdatagroup = ogdata.groupby(['Country', 'score scaled_QS2023', 'Global University Employability Rank 2020'])['Expenditure (constant US$ millions)'].max().nlargest(10)\n",
    "ogdatagroup = pd.DataFrame(ogdatagroup)\n",
    "\n",
    "ogdatagroupdf = ogdatagroup.drop(['Expenditure (constant US$ millions)'], axis = 1)\n",
    "ogdatagroupdf"
   ]
  },
  {
   "cell_type": "code",
   "execution_count": 5,
   "metadata": {},
   "outputs": [
    {
     "data": {
      "text/html": [
       "<div>\n",
       "<style scoped>\n",
       "    .dataframe tbody tr th:only-of-type {\n",
       "        vertical-align: middle;\n",
       "    }\n",
       "\n",
       "    .dataframe tbody tr th {\n",
       "        vertical-align: top;\n",
       "    }\n",
       "\n",
       "    .dataframe thead th {\n",
       "        text-align: right;\n",
       "    }\n",
       "</style>\n",
       "<table border=\"1\" class=\"dataframe\">\n",
       "  <thead>\n",
       "    <tr style=\"text-align: right;\">\n",
       "      <th></th>\n",
       "      <th>Country</th>\n",
       "      <th>score scaled_QS2023</th>\n",
       "      <th>Global University Employability Rank 2020</th>\n",
       "      <th>Expenditure (constant US$ millions)</th>\n",
       "    </tr>\n",
       "  </thead>\n",
       "  <tbody>\n",
       "    <tr>\n",
       "      <th>0</th>\n",
       "      <td>United States</td>\n",
       "      <td>51.871605</td>\n",
       "      <td>1.0</td>\n",
       "      <td>256883.353062</td>\n",
       "    </tr>\n",
       "    <tr>\n",
       "      <th>1</th>\n",
       "      <td>Germany</td>\n",
       "      <td>42.188462</td>\n",
       "      <td>12.0</td>\n",
       "      <td>47055.079968</td>\n",
       "    </tr>\n",
       "    <tr>\n",
       "      <th>2</th>\n",
       "      <td>United Kingdom</td>\n",
       "      <td>52.041304</td>\n",
       "      <td>4.0</td>\n",
       "      <td>38016.637028</td>\n",
       "    </tr>\n",
       "    <tr>\n",
       "      <th>3</th>\n",
       "      <td>India</td>\n",
       "      <td>39.412500</td>\n",
       "      <td>27.0</td>\n",
       "      <td>33847.630408</td>\n",
       "    </tr>\n",
       "    <tr>\n",
       "      <th>4</th>\n",
       "      <td>France</td>\n",
       "      <td>48.046154</td>\n",
       "      <td>22.0</td>\n",
       "      <td>32579.208210</td>\n",
       "    </tr>\n",
       "    <tr>\n",
       "      <th>5</th>\n",
       "      <td>Japan</td>\n",
       "      <td>51.366667</td>\n",
       "      <td>6.0</td>\n",
       "      <td>30910.225943</td>\n",
       "    </tr>\n",
       "    <tr>\n",
       "      <th>6</th>\n",
       "      <td>Canada</td>\n",
       "      <td>46.652941</td>\n",
       "      <td>8.0</td>\n",
       "      <td>26645.638165</td>\n",
       "    </tr>\n",
       "    <tr>\n",
       "      <th>7</th>\n",
       "      <td>Brazil</td>\n",
       "      <td>36.400000</td>\n",
       "      <td>109.0</td>\n",
       "      <td>25715.635888</td>\n",
       "    </tr>\n",
       "    <tr>\n",
       "      <th>8</th>\n",
       "      <td>Australia</td>\n",
       "      <td>49.562500</td>\n",
       "      <td>15.0</td>\n",
       "      <td>17708.363988</td>\n",
       "    </tr>\n",
       "    <tr>\n",
       "      <th>9</th>\n",
       "      <td>Italy</td>\n",
       "      <td>33.438462</td>\n",
       "      <td>57.0</td>\n",
       "      <td>14802.873240</td>\n",
       "    </tr>\n",
       "  </tbody>\n",
       "</table>\n",
       "</div>"
      ],
      "text/plain": [
       "          Country  score scaled_QS2023  \\\n",
       "0   United States            51.871605   \n",
       "1         Germany            42.188462   \n",
       "2  United Kingdom            52.041304   \n",
       "3           India            39.412500   \n",
       "4          France            48.046154   \n",
       "5           Japan            51.366667   \n",
       "6          Canada            46.652941   \n",
       "7          Brazil            36.400000   \n",
       "8       Australia            49.562500   \n",
       "9           Italy            33.438462   \n",
       "\n",
       "   Global University Employability Rank 2020  \\\n",
       "0                                        1.0   \n",
       "1                                       12.0   \n",
       "2                                        4.0   \n",
       "3                                       27.0   \n",
       "4                                       22.0   \n",
       "5                                        6.0   \n",
       "6                                        8.0   \n",
       "7                                      109.0   \n",
       "8                                       15.0   \n",
       "9                                       57.0   \n",
       "\n",
       "   Expenditure (constant US$ millions)  \n",
       "0                        256883.353062  \n",
       "1                         47055.079968  \n",
       "2                         38016.637028  \n",
       "3                         33847.630408  \n",
       "4                         32579.208210  \n",
       "5                         30910.225943  \n",
       "6                         26645.638165  \n",
       "7                         25715.635888  \n",
       "8                         17708.363988  \n",
       "9                         14802.873240  "
      ]
     },
     "execution_count": 5,
     "metadata": {},
     "output_type": "execute_result"
    }
   ],
   "source": [
    "#combining dataframes\n",
    "final_df = pd.merge(ogdatagroupdf.reset_index(), cleangroupdf.reset_index(), on=['Country'], how='outer')\n",
    "final_df"
   ]
  },
  {
   "cell_type": "code",
   "execution_count": 2,
   "metadata": {},
   "outputs": [
    {
     "data": {
      "text/plain": [
       "<matplotlib.legend.Legend at 0x2cb82a921a0>"
      ]
     },
     "execution_count": 2,
     "metadata": {},
     "output_type": "execute_result"
    },
    {
     "data": {
      "image/png": "[encoded data removed]",
      "text/plain": [
       "<Figure size 640x480 with 1 Axes>"
      ]
     },
     "metadata": {},
     "output_type": "display_data"
    }
   ],
   "source": [
    "#Inquiry Question 2: How has the government expenditure on tertiary education in the US and Australia changed from 2015-2018?\n",
    "#preparing and filtering data\n",
    "cleandataUS = cleandata.query(\"Country == 'United States of America'\")\n",
    "cleandataAUS = cleandata.query(\"Country == 'Australia'\")\n",
    "cleandataUS = cleandataUS.reset_index()\n",
    "cleandataAUS = cleandataAUS.reset_index()\n",
    "\n",
    "#bar aesthetics\n",
    "x = np.arange(len(cleandataAUS['Year']))\n",
    "width = 0.35\n",
    "\n",
    "#barplot structure and contents\n",
    "fig, ax = plt.subplots()\n",
    "plot1 = ax.bar(x - width/2, cleandataUS['Expenditure (constant US$ millions)'], width, label = 'United States')\n",
    "plot2 = ax.bar(x + width/2, cleandataAUS['Expenditure (constant US$ millions)'], width, label = 'Australia')\n",
    "ax.bar_label(plot1, padding=3)\n",
    "ax.bar_label(plot2, padding=3)\n",
    "ax.set_xticks(x, cleandataAUS['Year'])\n",
    "#barplot titles and legend\n",
    "plt.title('Expenditure for Tertiary Education: US & Australia, 2015-2018')\n",
    "plt.xlabel('Year')\n",
    "plt.ylabel('Expenditure (constant US$ millions)')\n",
    "plt.legend(loc='center right')"
   ]
  },
  {
   "cell_type": "code",
   "execution_count": 6,
   "metadata": {},
   "outputs": [
    {
     "data": {
      "application/vnd.plotly.v1+json": {
       "config": {
        "plotlyServerURL": "https://plot.ly"
       },
       "data": [
        {
         "hovertemplate": "Country (size ∝ expenditure)=United States<br>Global University Employability Rank 2020=%{x}<br>QS 2023 Scaled Score (out of 100)=%{y}<br>Expenditure (constant US$ millions)=%{marker.size}<extra></extra>",
         "legendgroup": "United States",
         "marker": {
          "color": "rgb(127, 60, 141)",
          "size": [
           256883.35306249998
          ],
          "sizemode": "area",
          "sizeref": 642.2083826562499,
          "symbol": "circle"
         },
         "mode": "markers",
         "name": "United States",
         "orientation": "v",
         "showlegend": true,
         "type": "scatter",
         "x": [
          1
         ],
         "xaxis": "x",
         "y": [
          51.87160494
         ],
         "yaxis": "y"
        },
        {
         "hovertemplate": "Country (size ∝ expenditure)=Germany<br>Global University Employability Rank 2020=%{x}<br>QS 2023 Scaled Score (out of 100)=%{y}<br>Expenditure (constant US$ millions)=%{marker.size}<extra></extra>",
         "legendgroup": "Germany",
         "marker": {
          "color": "rgb(17, 165, 121)",
          "size": [
           47055.0799675
          ],
          "sizemode": "area",
          "sizeref": 642.2083826562499,
          "symbol": "circle"
         },
         "mode": "markers",
         "name": "Germany",
         "orientation": "v",
         "showlegend": true,
         "type": "scatter",
         "x": [
          12
         ],
         "xaxis": "x",
         "y": [
          42.18846154
         ],
         "yaxis": "y"
        },
        {
         "hovertemplate": "Country (size ∝ expenditure)=United Kingdom<br>Global University Employability Rank 2020=%{x}<br>QS 2023 Scaled Score (out of 100)=%{y}<br>Expenditure (constant US$ millions)=%{marker.size}<extra></extra>",
         "legendgroup": "United Kingdom",
         "marker": {
          "color": "rgb(57, 105, 172)",
          "size": [
           38016.6370275
          ],
          "sizemode": "area",
          "sizeref": 642.2083826562499,
          "symbol": "circle"
         },
         "mode": "markers",
         "name": "United Kingdom",
         "orientation": "v",
         "showlegend": true,
         "type": "scatter",
         "x": [
          4
         ],
         "xaxis": "x",
         "y": [
          52.04130435
         ],
         "yaxis": "y"
        },
        {
         "hovertemplate": "Country (size ∝ expenditure)=India<br>Global University Employability Rank 2020=%{x}<br>QS 2023 Scaled Score (out of 100)=%{y}<br>Expenditure (constant US$ millions)=%{marker.size}<extra></extra>",
         "legendgroup": "India",
         "marker": {
          "color": "rgb(242, 183, 1)",
          "size": [
           33847.63040833333
          ],
          "sizemode": "area",
          "sizeref": 642.2083826562499,
          "symbol": "circle"
         },
         "mode": "markers",
         "name": "India",
         "orientation": "v",
         "showlegend": true,
         "type": "scatter",
         "x": [
          27
         ],
         "xaxis": "x",
         "y": [
          39.4125
         ],
         "yaxis": "y"
        },
        {
         "hovertemplate": "Country (size ∝ expenditure)=France<br>Global University Employability Rank 2020=%{x}<br>QS 2023 Scaled Score (out of 100)=%{y}<br>Expenditure (constant US$ millions)=%{marker.size}<extra></extra>",
         "legendgroup": "France",
         "marker": {
          "color": "rgb(231, 63, 116)",
          "size": [
           32579.208209999997
          ],
          "sizemode": "area",
          "sizeref": 642.2083826562499,
          "symbol": "circle"
         },
         "mode": "markers",
         "name": "France",
         "orientation": "v",
         "showlegend": true,
         "type": "scatter",
         "x": [
          22
         ],
         "xaxis": "x",
         "y": [
          48.04615385
         ],
         "yaxis": "y"
        },
        {
         "hovertemplate": "Country (size ∝ expenditure)=Japan<br>Global University Employability Rank 2020=%{x}<br>QS 2023 Scaled Score (out of 100)=%{y}<br>Expenditure (constant US$ millions)=%{marker.size}<extra></extra>",
         "legendgroup": "Japan",
         "marker": {
          "color": "rgb(128, 186, 90)",
          "size": [
           30910.225943333335
          ],
          "sizemode": "area",
          "sizeref": 642.2083826562499,
          "symbol": "circle"
         },
         "mode": "markers",
         "name": "Japan",
         "orientation": "v",
         "showlegend": true,
         "type": "scatter",
         "x": [
          6
         ],
         "xaxis": "x",
         "y": [
          51.36666667
         ],
         "yaxis": "y"
        },
        {
         "hovertemplate": "Country (size ∝ expenditure)=Canada<br>Global University Employability Rank 2020=%{x}<br>QS 2023 Scaled Score (out of 100)=%{y}<br>Expenditure (constant US$ millions)=%{marker.size}<extra></extra>",
         "legendgroup": "Canada",
         "marker": {
          "color": "rgb(230, 131, 16)",
          "size": [
           26645.638165
          ],
          "sizemode": "area",
          "sizeref": 642.2083826562499,
          "symbol": "circle"
         },
         "mode": "markers",
         "name": "Canada",
         "orientation": "v",
         "showlegend": true,
         "type": "scatter",
         "x": [
          8
         ],
         "xaxis": "x",
         "y": [
          46.65294118
         ],
         "yaxis": "y"
        },
        {
         "hovertemplate": "Country (size ∝ expenditure)=Brazil<br>Global University Employability Rank 2020=%{x}<br>QS 2023 Scaled Score (out of 100)=%{y}<br>Expenditure (constant US$ millions)=%{marker.size}<extra></extra>",
         "legendgroup": "Brazil",
         "marker": {
          "color": "rgb(0, 134, 149)",
          "size": [
           25715.6358875
          ],
          "sizemode": "area",
          "sizeref": 642.2083826562499,
          "symbol": "circle"
         },
         "mode": "markers",
         "name": "Brazil",
         "orientation": "v",
         "showlegend": true,
         "type": "scatter",
         "x": [
          109
         ],
         "xaxis": "x",
         "y": [
          36.4
         ],
         "yaxis": "y"
        },
        {
         "hovertemplate": "Country (size ∝ expenditure)=Australia<br>Global University Employability Rank 2020=%{x}<br>QS 2023 Scaled Score (out of 100)=%{y}<br>Expenditure (constant US$ millions)=%{marker.size}<extra></extra>",
         "legendgroup": "Australia",
         "marker": {
          "color": "rgb(207, 28, 144)",
          "size": [
           17708.3639875
          ],
          "sizemode": "area",
          "sizeref": 642.2083826562499,
          "symbol": "circle"
         },
         "mode": "markers",
         "name": "Australia",
         "orientation": "v",
         "showlegend": true,
         "type": "scatter",
         "x": [
          15
         ],
         "xaxis": "x",
         "y": [
          49.5625
         ],
         "yaxis": "y"
        },
        {
         "hovertemplate": "Country (size ∝ expenditure)=Italy<br>Global University Employability Rank 2020=%{x}<br>QS 2023 Scaled Score (out of 100)=%{y}<br>Expenditure (constant US$ millions)=%{marker.size}<extra></extra>",
         "legendgroup": "Italy",
         "marker": {
          "color": "rgb(249, 123, 114)",
          "size": [
           14802.87324
          ],
          "sizemode": "area",
          "sizeref": 642.2083826562499,
          "symbol": "circle"
         },
         "mode": "markers",
         "name": "Italy",
         "orientation": "v",
         "showlegend": true,
         "type": "scatter",
         "x": [
          57
         ],
         "xaxis": "x",
         "y": [
          33.43846154
         ],
         "yaxis": "y"
        }
       ],
       "layout": {
        "annotations": [
         {
          "showarrow": false,
          "text": "Expenditure: constant US$ millions",
          "x": 1,
          "xref": "paper",
          "y": 0,
          "yref": "paper"
         }
        ],
        "legend": {
         "itemsizing": "constant",
         "title": {
          "text": "Country (size ∝ expenditure)"
         },
         "tracegroupgap": 0
        },
        "template": {
         "data": {
          "bar": [
           {
            "error_x": {
             "color": "#2a3f5f"
            },
            "error_y": {
             "color": "#2a3f5f"
            },
            "marker": {
             "line": {
              "color": "#E5ECF6",
              "width": 0.5
             },
             "pattern": {
              "fillmode": "overlay",
              "size": 10,
              "solidity": 0.2
             }
            },
            "type": "bar"
           }
          ],
          "barpolar": [
           {
            "marker": {
             "line": {
              "color": "#E5ECF6",
              "width": 0.5
             },
             "pattern": {
              "fillmode": "overlay",
              "size": 10,
              "solidity": 0.2
             }
            },
            "type": "barpolar"
           }
          ],
          "carpet": [
           {
            "aaxis": {
             "endlinecolor": "#2a3f5f",
             "gridcolor": "white",
             "linecolor": "white",
             "minorgridcolor": "white",
             "startlinecolor": "#2a3f5f"
            },
            "baxis": {
             "endlinecolor": "#2a3f5f",
             "gridcolor": "white",
             "linecolor": "white",
             "minorgridcolor": "white",
             "startlinecolor": "#2a3f5f"
            },
            "type": "carpet"
           }
          ],
          "choropleth": [
           {
            "colorbar": {
             "outlinewidth": 0,
             "ticks": ""
            },
            "type": "choropleth"
           }
          ],
          "contour": [
           {
            "colorbar": {
             "outlinewidth": 0,
             "ticks": ""
            },
            "colorscale": [
             [
              0,
              "#0d0887"
             ],
             [
              0.1111111111111111,
              "#46039f"
             ],
             [
              0.2222222222222222,
              "#7201a8"
             ],
             [
              0.3333333333333333,
              "#9c179e"
             ],
             [
              0.4444444444444444,
              "#bd3786"
             ],
             [
              0.5555555555555556,
              "#d8576b"
             ],
             [
              0.6666666666666666,
              "#ed7953"
             ],
             [
              0.7777777777777778,
              "#fb9f3a"
             ],
             [
              0.8888888888888888,
              "#fdca26"
             ],
             [
              1,
              "#f0f921"
             ]
            ],
            "type": "contour"
           }
          ],
          "contourcarpet": [
           {
            "colorbar": {
             "outlinewidth": 0,
             "ticks": ""
            },
            "type": "contourcarpet"
           }
          ],
          "heatmap": [
           {
            "colorbar": {
             "outlinewidth": 0,
             "ticks": ""
            },
            "colorscale": [
             [
              0,
              "#0d0887"
             ],
             [
              0.1111111111111111,
              "#46039f"
             ],
             [
              0.2222222222222222,
              "#7201a8"
             ],
             [
              0.3333333333333333,
              "#9c179e"
             ],
             [
              0.4444444444444444,
              "#bd3786"
             ],
             [
              0.5555555555555556,
              "#d8576b"
             ],
             [
              0.6666666666666666,
              "#ed7953"
             ],
             [
              0.7777777777777778,
              "#fb9f3a"
             ],
             [
              0.8888888888888888,
              "#fdca26"
             ],
             [
              1,
              "#f0f921"
             ]
            ],
            "type": "heatmap"
           }
          ],
          "heatmapgl": [
           {
            "colorbar": {
             "outlinewidth": 0,
             "ticks": ""
            },
            "colorscale": [
             [
              0,
              "#0d0887"
             ],
             [
              0.1111111111111111,
              "#46039f"
             ],
             [
              0.2222222222222222,
              "#7201a8"
             ],
             [
              0.3333333333333333,
              "#9c179e"
             ],
             [
              0.4444444444444444,
              "#bd3786"
             ],
             [
              0.5555555555555556,
              "#d8576b"
             ],
             [
              0.6666666666666666,
              "#ed7953"
             ],
             [
              0.7777777777777778,
              "#fb9f3a"
             ],
             [
              0.8888888888888888,
              "#fdca26"
             ],
             [
              1,
              "#f0f921"
             ]
            ],
            "type": "heatmapgl"
           }
          ],
          "histogram": [
           {
            "marker": {
             "pattern": {
              "fillmode": "overlay",
              "size": 10,
              "solidity": 0.2
             }
            },
            "type": "histogram"
           }
          ],
          "histogram2d": [
           {
            "colorbar": {
             "outlinewidth": 0,
             "ticks": ""
            },
            "colorscale": [
             [
              0,
              "#0d0887"
             ],
             [
              0.1111111111111111,
              "#46039f"
             ],
             [
              0.2222222222222222,
              "#7201a8"
             ],
             [
              0.3333333333333333,
              "#9c179e"
             ],
             [
              0.4444444444444444,
              "#bd3786"
             ],
             [
              0.5555555555555556,
              "#d8576b"
             ],
             [
              0.6666666666666666,
              "#ed7953"
             ],
             [
              0.7777777777777778,
              "#fb9f3a"
             ],
             [
              0.8888888888888888,
              "#fdca26"
             ],
             [
              1,
              "#f0f921"
             ]
            ],
            "type": "histogram2d"
           }
          ],
          "histogram2dcontour": [
           {
            "colorbar": {
             "outlinewidth": 0,
             "ticks": ""
            },
            "colorscale": [
             [
              0,
              "#0d0887"
             ],
             [
              0.1111111111111111,
              "#46039f"
             ],
             [
              0.2222222222222222,
              "#7201a8"
             ],
             [
              0.3333333333333333,
              "#9c179e"
             ],
             [
              0.4444444444444444,
              "#bd3786"
             ],
             [
              0.5555555555555556,
              "#d8576b"
             ],
             [
              0.6666666666666666,
              "#ed7953"
             ],
             [
              0.7777777777777778,
              "#fb9f3a"
             ],
             [
              0.8888888888888888,
              "#fdca26"
             ],
             [
              1,
              "#f0f921"
             ]
            ],
            "type": "histogram2dcontour"
           }
          ],
          "mesh3d": [
           {
            "colorbar": {
             "outlinewidth": 0,
             "ticks": ""
            },
            "type": "mesh3d"
           }
          ],
          "parcoords": [
           {
            "line": {
             "colorbar": {
              "outlinewidth": 0,
              "ticks": ""
             }
            },
            "type": "parcoords"
           }
          ],
          "pie": [
           {
            "automargin": true,
            "type": "pie"
           }
          ],
          "scatter": [
           {
            "fillpattern": {
             "fillmode": "overlay",
             "size": 10,
             "solidity": 0.2
            },
            "type": "scatter"
           }
          ],
          "scatter3d": [
           {
            "line": {
             "colorbar": {
              "outlinewidth": 0,
              "ticks": ""
             }
            },
            "marker": {
             "colorbar": {
              "outlinewidth": 0,
              "ticks": ""
             }
            },
            "type": "scatter3d"
           }
          ],
          "scattercarpet": [
           {
            "marker": {
             "colorbar": {
              "outlinewidth": 0,
              "ticks": ""
             }
            },
            "type": "scattercarpet"
           }
          ],
          "scattergeo": [
           {
            "marker": {
             "colorbar": {
              "outlinewidth": 0,
              "ticks": ""
             }
            },
            "type": "scattergeo"
           }
          ],
          "scattergl": [
           {
            "marker": {
             "colorbar": {
              "outlinewidth": 0,
              "ticks": ""
             }
            },
            "type": "scattergl"
           }
          ],
          "scattermapbox": [
           {
            "marker": {
             "colorbar": {
              "outlinewidth": 0,
              "ticks": ""
             }
            },
            "type": "scattermapbox"
           }
          ],
          "scatterpolar": [
           {
            "marker": {
             "colorbar": {
              "outlinewidth": 0,
              "ticks": ""
             }
            },
            "type": "scatterpolar"
           }
          ],
          "scatterpolargl": [
           {
            "marker": {
             "colorbar": {
              "outlinewidth": 0,
              "ticks": ""
             }
            },
            "type": "scatterpolargl"
           }
          ],
          "scatterternary": [
           {
            "marker": {
             "colorbar": {
              "outlinewidth": 0,
              "ticks": ""
             }
            },
            "type": "scatterternary"
           }
          ],
          "surface": [
           {
            "colorbar": {
             "outlinewidth": 0,
             "ticks": ""
            },
            "colorscale": [
             [
              0,
              "#0d0887"
             ],
             [
              0.1111111111111111,
              "#46039f"
             ],
             [
              0.2222222222222222,
              "#7201a8"
             ],
             [
              0.3333333333333333,
              "#9c179e"
             ],
             [
              0.4444444444444444,
              "#bd3786"
             ],
             [
              0.5555555555555556,
              "#d8576b"
             ],
             [
              0.6666666666666666,
              "#ed7953"
             ],
             [
              0.7777777777777778,
              "#fb9f3a"
             ],
             [
              0.8888888888888888,
              "#fdca26"
             ],
             [
              1,
              "#f0f921"
             ]
            ],
            "type": "surface"
           }
          ],
          "table": [
           {
            "cells": {
             "fill": {
              "color": "#EBF0F8"
             },
             "line": {
              "color": "white"
             }
            },
            "header": {
             "fill": {
              "color": "#C8D4E3"
             },
             "line": {
              "color": "white"
             }
            },
            "type": "table"
           }
          ]
         },
         "layout": {
          "annotationdefaults": {
           "arrowcolor": "#2a3f5f",
           "arrowhead": 0,
           "arrowwidth": 1
          },
          "autotypenumbers": "strict",
          "coloraxis": {
           "colorbar": {
            "outlinewidth": 0,
            "ticks": ""
           }
          },
          "colorscale": {
           "diverging": [
            [
             0,
             "#8e0152"
            ],
            [
             0.1,
             "#c51b7d"
            ],
            [
             0.2,
             "#de77ae"
            ],
            [
             0.3,
             "#f1b6da"
            ],
            [
             0.4,
             "#fde0ef"
            ],
            [
             0.5,
             "#f7f7f7"
            ],
            [
             0.6,
             "#e6f5d0"
            ],
            [
             0.7,
             "#b8e186"
            ],
            [
             0.8,
             "#7fbc41"
            ],
            [
             0.9,
             "#4d9221"
            ],
            [
             1,
             "#276419"
            ]
           ],
           "sequential": [
            [
             0,
             "#0d0887"
            ],
            [
             0.1111111111111111,
             "#46039f"
            ],
            [
             0.2222222222222222,
             "#7201a8"
            ],
            [
             0.3333333333333333,
             "#9c179e"
            ],
            [
             0.4444444444444444,
             "#bd3786"
            ],
            [
             0.5555555555555556,
             "#d8576b"
            ],
            [
             0.6666666666666666,
             "#ed7953"
            ],
            [
             0.7777777777777778,
             "#fb9f3a"
            ],
            [
             0.8888888888888888,
             "#fdca26"
            ],
            [
             1,
             "#f0f921"
            ]
           ],
           "sequentialminus": [
            [
             0,
             "#0d0887"
            ],
            [
             0.1111111111111111,
             "#46039f"
            ],
            [
             0.2222222222222222,
             "#7201a8"
            ],
            [
             0.3333333333333333,
             "#9c179e"
            ],
            [
             0.4444444444444444,
             "#bd3786"
            ],
            [
             0.5555555555555556,
             "#d8576b"
            ],
            [
             0.6666666666666666,
             "#ed7953"
            ],
            [
             0.7777777777777778,
             "#fb9f3a"
            ],
            [
             0.8888888888888888,
             "#fdca26"
            ],
            [
             1,
             "#f0f921"
            ]
           ]
          },
          "colorway": [
           "#636efa",
           "#EF553B",
           "#00cc96",
           "#ab63fa",
           "#FFA15A",
           "#19d3f3",
           "#FF6692",
           "#B6E880",
           "#FF97FF",
           "#FECB52"
          ],
          "font": {
           "color": "#2a3f5f"
          },
          "geo": {
           "bgcolor": "white",
           "lakecolor": "white",
           "landcolor": "#E5ECF6",
           "showlakes": true,
           "showland": true,
           "subunitcolor": "white"
          },
          "hoverlabel": {
           "align": "left"
          },
          "hovermode": "closest",
          "mapbox": {
           "style": "light"
          },
          "paper_bgcolor": "white",
          "plot_bgcolor": "#E5ECF6",
          "polar": {
           "angularaxis": {
            "gridcolor": "white",
            "linecolor": "white",
            "ticks": ""
           },
           "bgcolor": "#E5ECF6",
           "radialaxis": {
            "gridcolor": "white",
            "linecolor": "white",
            "ticks": ""
           }
          },
          "scene": {
           "xaxis": {
            "backgroundcolor": "#E5ECF6",
            "gridcolor": "white",
            "gridwidth": 2,
            "linecolor": "white",
            "showbackground": true,
            "ticks": "",
            "zerolinecolor": "white"
           },
           "yaxis": {
            "backgroundcolor": "#E5ECF6",
            "gridcolor": "white",
            "gridwidth": 2,
            "linecolor": "white",
            "showbackground": true,
            "ticks": "",
            "zerolinecolor": "white"
           },
           "zaxis": {
            "backgroundcolor": "#E5ECF6",
            "gridcolor": "white",
            "gridwidth": 2,
            "linecolor": "white",
            "showbackground": true,
            "ticks": "",
            "zerolinecolor": "white"
           }
          },
          "shapedefaults": {
           "line": {
            "color": "#2a3f5f"
           }
          },
          "ternary": {
           "aaxis": {
            "gridcolor": "white",
            "linecolor": "white",
            "ticks": ""
           },
           "baxis": {
            "gridcolor": "white",
            "linecolor": "white",
            "ticks": ""
           },
           "bgcolor": "#E5ECF6",
           "caxis": {
            "gridcolor": "white",
            "linecolor": "white",
            "ticks": ""
           }
          },
          "title": {
           "x": 0.05
          },
          "xaxis": {
           "automargin": true,
           "gridcolor": "white",
           "linecolor": "white",
           "ticks": "",
           "title": {
            "standoff": 15
           },
           "zerolinecolor": "white",
           "zerolinewidth": 2
          },
          "yaxis": {
           "automargin": true,
           "gridcolor": "white",
           "linecolor": "white",
           "ticks": "",
           "title": {
            "standoff": 15
           },
           "zerolinecolor": "white",
           "zerolinewidth": 2
          }
         }
        },
        "title": {
         "text": "Tertiary Education: QS and Employability Rankings for Top 10 Spending Nations"
        },
        "xaxis": {
         "anchor": "y",
         "autorange": "reversed",
         "domain": [
          0,
          1
         ],
         "title": {
          "text": "Global University Employability Rank 2020"
         }
        },
        "yaxis": {
         "anchor": "x",
         "domain": [
          0,
          1
         ],
         "title": {
          "text": "QS 2023 Scaled Score (out of 100)"
         }
        }
       }
      }
     },
     "metadata": {},
     "output_type": "display_data"
    }
   ],
   "source": [
    "#creating bubble chart\n",
    "fig = px.scatter(final_df, x='Global University Employability Rank 2020', y='score scaled_QS2023', \n",
    "size='Expenditure (constant US$ millions)', color='Country', labels = {\n",
    "    'Global University Employability Rank 2020': 'Global University Employability Rank 2020',\n",
    "    'score scaled_QS2023': 'QS 2023 Scaled Score (out of 100)',\n",
    "    'Country': 'Country (size ∝ expenditure)'\n",
    "    },\n",
    "    title='Tertiary Education: QS and Employability Rankings for Top 10 Spending Nations',\n",
    "    color_discrete_sequence=px.colors.qualitative.Bold)\n",
    "#reverse x-axis to show ranking\n",
    "fig.update_xaxes(autorange='reversed')\n",
    "#annotation\n",
    "fig.add_annotation(xref='paper', yref='paper', x=1, y=0, text='Expenditure: constant US$ millions', showarrow=False)\n",
    "fig.show()\n",
    "\n"
   ]
  },
  {
   "cell_type": "code",
   "execution_count": 21,
   "metadata": {},
   "outputs": [
    {
     "data": {
      "text/html": [
       "<div>\n",
       "<style scoped>\n",
       "    .dataframe tbody tr th:only-of-type {\n",
       "        vertical-align: middle;\n",
       "    }\n",
       "\n",
       "    .dataframe tbody tr th {\n",
       "        vertical-align: top;\n",
       "    }\n",
       "\n",
       "    .dataframe thead th {\n",
       "        text-align: right;\n",
       "    }\n",
       "</style>\n",
       "<table border=\"1\" class=\"dataframe\">\n",
       "  <thead>\n",
       "    <tr style=\"text-align: right;\">\n",
       "      <th>Expenditure (constant US$ millions)</th>\n",
       "      <th>(10000, 20000]</th>\n",
       "      <th>(20000, 100000]</th>\n",
       "      <th>(100000, 200000]</th>\n",
       "      <th>(200000, 300000]</th>\n",
       "    </tr>\n",
       "    <tr>\n",
       "      <th>Country</th>\n",
       "      <th></th>\n",
       "      <th></th>\n",
       "      <th></th>\n",
       "      <th></th>\n",
       "    </tr>\n",
       "  </thead>\n",
       "  <tbody>\n",
       "    <tr>\n",
       "      <th>Australia</th>\n",
       "      <td>4</td>\n",
       "      <td>0</td>\n",
       "      <td>0</td>\n",
       "      <td>0</td>\n",
       "    </tr>\n",
       "    <tr>\n",
       "      <th>Brazil</th>\n",
       "      <td>0</td>\n",
       "      <td>4</td>\n",
       "      <td>0</td>\n",
       "      <td>0</td>\n",
       "    </tr>\n",
       "    <tr>\n",
       "      <th>Canada</th>\n",
       "      <td>0</td>\n",
       "      <td>4</td>\n",
       "      <td>0</td>\n",
       "      <td>0</td>\n",
       "    </tr>\n",
       "    <tr>\n",
       "      <th>France</th>\n",
       "      <td>0</td>\n",
       "      <td>2</td>\n",
       "      <td>0</td>\n",
       "      <td>0</td>\n",
       "    </tr>\n",
       "    <tr>\n",
       "      <th>Germany</th>\n",
       "      <td>0</td>\n",
       "      <td>4</td>\n",
       "      <td>0</td>\n",
       "      <td>0</td>\n",
       "    </tr>\n",
       "    <tr>\n",
       "      <th>India</th>\n",
       "      <td>0</td>\n",
       "      <td>6</td>\n",
       "      <td>0</td>\n",
       "      <td>0</td>\n",
       "    </tr>\n",
       "    <tr>\n",
       "      <th>Italy</th>\n",
       "      <td>4</td>\n",
       "      <td>0</td>\n",
       "      <td>0</td>\n",
       "      <td>0</td>\n",
       "    </tr>\n",
       "    <tr>\n",
       "      <th>Japan</th>\n",
       "      <td>0</td>\n",
       "      <td>3</td>\n",
       "      <td>0</td>\n",
       "      <td>0</td>\n",
       "    </tr>\n",
       "    <tr>\n",
       "      <th>Mexico</th>\n",
       "      <td>4</td>\n",
       "      <td>0</td>\n",
       "      <td>0</td>\n",
       "      <td>0</td>\n",
       "    </tr>\n",
       "    <tr>\n",
       "      <th>Netherlands</th>\n",
       "      <td>4</td>\n",
       "      <td>0</td>\n",
       "      <td>0</td>\n",
       "      <td>0</td>\n",
       "    </tr>\n",
       "    <tr>\n",
       "      <th>Republic of Korea</th>\n",
       "      <td>4</td>\n",
       "      <td>0</td>\n",
       "      <td>0</td>\n",
       "      <td>0</td>\n",
       "    </tr>\n",
       "    <tr>\n",
       "      <th>Russian Federation</th>\n",
       "      <td>4</td>\n",
       "      <td>0</td>\n",
       "      <td>0</td>\n",
       "      <td>0</td>\n",
       "    </tr>\n",
       "    <tr>\n",
       "      <th>Spain</th>\n",
       "      <td>4</td>\n",
       "      <td>0</td>\n",
       "      <td>0</td>\n",
       "      <td>0</td>\n",
       "    </tr>\n",
       "    <tr>\n",
       "      <th>Turkey</th>\n",
       "      <td>1</td>\n",
       "      <td>0</td>\n",
       "      <td>0</td>\n",
       "      <td>0</td>\n",
       "    </tr>\n",
       "    <tr>\n",
       "      <th>United Kingdom</th>\n",
       "      <td>0</td>\n",
       "      <td>4</td>\n",
       "      <td>0</td>\n",
       "      <td>0</td>\n",
       "    </tr>\n",
       "    <tr>\n",
       "      <th>United States</th>\n",
       "      <td>0</td>\n",
       "      <td>0</td>\n",
       "      <td>0</td>\n",
       "      <td>4</td>\n",
       "    </tr>\n",
       "  </tbody>\n",
       "</table>\n",
       "</div>"
      ],
      "text/plain": [
       "Expenditure (constant US$ millions)  (10000, 20000]  (20000, 100000]  \\\n",
       "Country                                                                \n",
       "Australia                                         4                0   \n",
       "Brazil                                            0                4   \n",
       "Canada                                            0                4   \n",
       "France                                            0                2   \n",
       "Germany                                           0                4   \n",
       "India                                             0                6   \n",
       "Italy                                             4                0   \n",
       "Japan                                             0                3   \n",
       "Mexico                                            4                0   \n",
       "Netherlands                                       4                0   \n",
       "Republic of Korea                                 4                0   \n",
       "Russian Federation                                4                0   \n",
       "Spain                                             4                0   \n",
       "Turkey                                            1                0   \n",
       "United Kingdom                                    0                4   \n",
       "United States                                     0                0   \n",
       "\n",
       "Expenditure (constant US$ millions)  (100000, 200000]  (200000, 300000]  \n",
       "Country                                                                  \n",
       "Australia                                           0                 0  \n",
       "Brazil                                              0                 0  \n",
       "Canada                                              0                 0  \n",
       "France                                              0                 0  \n",
       "Germany                                             0                 0  \n",
       "India                                               0                 0  \n",
       "Italy                                               0                 0  \n",
       "Japan                                               0                 0  \n",
       "Mexico                                              0                 0  \n",
       "Netherlands                                         0                 0  \n",
       "Republic of Korea                                   0                 0  \n",
       "Russian Federation                                  0                 0  \n",
       "Spain                                               0                 0  \n",
       "Turkey                                              0                 0  \n",
       "United Kingdom                                      0                 0  \n",
       "United States                                       0                 4  "
      ]
     },
     "execution_count": 21,
     "metadata": {},
     "output_type": "execute_result"
    }
   ],
   "source": [
    "#Binned Quantitative Group-Aggregate\n",
    "#only including instances where a nation's expenditure is greater than 10000 constant US$ millions\n",
    "cleandataex = cleandata.loc[(cleandata['Expenditure (constant US$ millions)'] > 10000)]\n",
    "#forming quantitative bins based on yearly expenditure, \n",
    "qgroups = cleandataex.groupby([cleandataex['Country'], pd.cut(cleandataex['Expenditure (constant US$ millions)'], \n",
    "[10000, 20000, 100000, 200000, 300000])])\n",
    "qgroups.size().unstack()\n",
    "\n"
   ]
  }
 ],
 "metadata": {
  "kernelspec": {
   "display_name": "Python 3.10.7 64-bit (microsoft store)",
   "language": "python",
   "name": "python3"
  },
  "language_info": {
   "codemirror_mode": {
    "name": "ipython",
    "version": 3
   },
   "file_extension": ".py",
   "mimetype": "text/x-python",
   "name": "python",
   "nbconvert_exporter": "python",
   "pygments_lexer": "ipython3",
   "version": "3.10.7"
  },
  "orig_nbformat": 4,
  "vscode": {
   "interpreter": {
    "hash": "923ed33ac87f783e1b58c3977006db86bc138d18a704eedc1443c41d0c5b34ab"
   }
  }
 },
 "nbformat": 4,
 "nbformat_minor": 2
}
